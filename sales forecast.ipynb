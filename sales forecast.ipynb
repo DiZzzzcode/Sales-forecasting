{
 "cells": [
  {
   "cell_type": "code",
   "execution_count": 1,
   "id": "26f252b5",
   "metadata": {},
   "outputs": [
    {
     "data": {
      "text/html": [
       "        <script type=\"text/javascript\">\n",
       "        window.PlotlyConfig = {MathJaxConfig: 'local'};\n",
       "        if (window.MathJax) {MathJax.Hub.Config({SVG: {font: \"STIX-Web\"}});}\n",
       "        if (typeof require !== 'undefined') {\n",
       "        require.undef(\"plotly\");\n",
       "        requirejs.config({\n",
       "            paths: {\n",
       "                'plotly': ['https://cdn.plot.ly/plotly-2.6.3.min']\n",
       "            }\n",
       "        });\n",
       "        require(['plotly'], function(Plotly) {\n",
       "            window._Plotly = Plotly;\n",
       "        });\n",
       "        }\n",
       "        </script>\n",
       "        "
      ]
     },
     "metadata": {},
     "output_type": "display_data"
    },
    {
     "name": "stderr",
     "output_type": "stream",
     "text": [
      "/Users/dizzz/opt/anaconda3/envs/new/lib/python3.7/site-packages/psycopg2/__init__.py:144: UserWarning:\n",
      "\n",
      "The psycopg2 wheel package will be renamed from release 2.8; in order to keep installing from binary please use \"pip install psycopg2-binary\" instead. For details see: <http://initd.org/psycopg/docs/install.html#binary-install-from-pypi>.\n",
      "\n"
     ]
    }
   ],
   "source": [
    "from sqlalchemy import create_engine\n",
    "import pandas as pd\n",
    "import numpy as np\n",
    "import seaborn as sns\n",
    "from sklearn.model_selection import train_test_split\n",
    "import matplotlib.pyplot as plt\n",
    "from prophet import Prophet\n",
    "from sklearn.metrics import mean_squared_error, mean_absolute_error\n",
    "from datetime import datetime, date\n",
    "import plotly as py\n",
    "from plotly.offline import iplot, plot, init_notebook_mode, download_plotlyjs\n",
    "import plotly.graph_objs as go\n",
    "init_notebook_mode(connected=True)\n",
    "import plotly.offline as offline\n",
    "import os\n",
    "plt.style.use('fivethirtyeight') # For plots\n",
    "\n",
    "df_holiday = pd.read_csv('calendar.csv')\n",
    "df_holiday['ds'] = pd.to_datetime(df_holiday[\"ds\"]).dt.strftime('%Y-%m-%d')\n",
    "df_holiday[['ds', 'holiday']] = df_holiday[['ds', 'holiday']]\n",
    "df_holiday = df_holiday[['ds', 'holiday']]"
   ]
  },
  {
   "cell_type": "code",
   "execution_count": 24,
   "id": "234a9493",
   "metadata": {},
   "outputs": [
    {
     "name": "stdout",
     "output_type": "stream",
     "text": [
      "Initial log joint probability = -23.9809\n",
      "    Iter      log prob        ||dx||      ||grad||       alpha      alpha0  # evals  Notes \n",
      "      99       864.715     0.0155753       270.646       2.417      0.2417      126   \n",
      "    Iter      log prob        ||dx||      ||grad||       alpha      alpha0  # evals  Notes \n",
      "     199       896.944    0.00771897       115.867           1           1      240   \n",
      "    Iter      log prob        ||dx||      ||grad||       alpha      alpha0  # evals  Notes \n",
      "     299       903.311    0.00787413       402.399      0.6926      0.6926      364   \n",
      "    Iter      log prob        ||dx||      ||grad||       alpha      alpha0  # evals  Notes \n",
      "     399       905.481   0.000860046       266.439      0.4373      0.4373      485   \n",
      "    Iter      log prob        ||dx||      ||grad||       alpha      alpha0  # evals  Notes \n",
      "     499       906.906    0.00096313       73.6208      0.5793      0.5793      603   \n",
      "    Iter      log prob        ||dx||      ||grad||       alpha      alpha0  # evals  Notes \n",
      "     599       908.914    0.00125798       95.5341           1           1      736   \n",
      "    Iter      log prob        ||dx||      ||grad||       alpha      alpha0  # evals  Notes \n",
      "     699       909.992   0.000181975       46.4842           1           1      853   \n",
      "    Iter      log prob        ||dx||      ||grad||       alpha      alpha0  # evals  Notes \n",
      "     799       911.809     0.0223231       72.3296      0.4531           1      971   \n",
      "    Iter      log prob        ||dx||      ||grad||       alpha      alpha0  # evals  Notes \n",
      "     804       911.858   7.69923e-05       93.9078   7.881e-07       0.001     1026  LS failed, Hessian reset \n",
      "     899       912.975   0.000234977        53.626       0.907       0.907     1146   \n",
      "    Iter      log prob        ||dx||      ||grad||       alpha      alpha0  # evals  Notes \n",
      "     999       913.156   0.000325867       40.8203      0.3549      0.9995     1277   \n",
      "    Iter      log prob        ||dx||      ||grad||       alpha      alpha0  # evals  Notes \n",
      "    1099       913.839    0.00368687       84.2067           1           1     1395   \n",
      "    Iter      log prob        ||dx||      ||grad||       alpha      alpha0  # evals  Notes \n",
      "    1199        914.35   8.21622e-05        58.206      0.4009           1     1517   \n",
      "    Iter      log prob        ||dx||      ||grad||       alpha      alpha0  # evals  Notes \n",
      "    1299       914.539    0.00513067       57.7508           1           1     1631   \n",
      "    Iter      log prob        ||dx||      ||grad||       alpha      alpha0  # evals  Notes \n",
      "    1399       914.668   0.000931187       47.5687       0.556       0.556     1752   \n",
      "    Iter      log prob        ||dx||      ||grad||       alpha      alpha0  # evals  Notes \n",
      "    1499       914.794   0.000312785       40.3419      0.3404      0.3404     1875   \n",
      "    Iter      log prob        ||dx||      ||grad||       alpha      alpha0  # evals  Notes \n",
      "    1599       915.052    0.00145938       51.7323      0.8987      0.8987     1996   \n",
      "    Iter      log prob        ||dx||      ||grad||       alpha      alpha0  # evals  Notes \n",
      "    1699       915.153   3.06368e-05       30.8445           1           1     2118   \n",
      "    Iter      log prob        ||dx||      ||grad||       alpha      alpha0  # evals  Notes \n",
      "    1726       915.158   3.07416e-05       38.7929   7.185e-07       0.001     2189  LS failed, Hessian reset \n",
      "    1757       915.162   2.55567e-05       46.1069   5.754e-07       0.001     2258  LS failed, Hessian reset \n",
      "    1799       915.163   4.55335e-06       49.6865           1           1     2310   \n",
      "    Iter      log prob        ||dx||      ||grad||       alpha      alpha0  # evals  Notes \n",
      "    1899       915.184   0.000431391       43.0187           1           1     2422   \n",
      "    Iter      log prob        ||dx||      ||grad||       alpha      alpha0  # evals  Notes \n",
      "    1999       915.322   0.000119152       43.9844      0.7596      0.7596     2538   \n",
      "    Iter      log prob        ||dx||      ||grad||       alpha      alpha0  # evals  Notes \n",
      "    2099       915.779    0.00192251       44.6972      0.4721      0.4721     2653   \n",
      "    Iter      log prob        ||dx||      ||grad||       alpha      alpha0  # evals  Notes \n",
      "    2199       917.803    0.00067729       210.457     0.08303           1     2769   \n",
      "    Iter      log prob        ||dx||      ||grad||       alpha      alpha0  # evals  Notes \n",
      "    2299       918.922   0.000638884       45.6609      0.5261      0.5261     2890   \n",
      "    Iter      log prob        ||dx||      ||grad||       alpha      alpha0  # evals  Notes \n",
      "    2399       919.048   2.28774e-05       36.7396      0.3116           1     3039   \n",
      "    Iter      log prob        ||dx||      ||grad||       alpha      alpha0  # evals  Notes \n",
      "    2431       919.052   2.05464e-05       36.7293   8.521e-07       0.001     3115  LS failed, Hessian reset \n",
      "    2499       919.078   6.22233e-05       31.5801      0.1248           1     3200   \n",
      "    Iter      log prob        ||dx||      ||grad||       alpha      alpha0  # evals  Notes \n",
      "    2537       919.108    0.00016229       129.567   3.116e-06       0.001     3307  LS failed, Hessian reset \n",
      "    2599       919.132   0.000620605       53.9368      0.5372      0.5372     3394   \n",
      "    Iter      log prob        ||dx||      ||grad||       alpha      alpha0  # evals  Notes \n",
      "    2663       919.142   1.84882e-06       30.0675   5.324e-08       0.001     3533  LS failed, Hessian reset \n",
      "    2699       919.144   1.96245e-05       32.4661           1           1     3574   \n",
      "    Iter      log prob        ||dx||      ||grad||       alpha      alpha0  # evals  Notes \n",
      "    2778       919.151   2.42823e-07       31.4755      0.5956      0.5956     3673   \n",
      "Optimization terminated normally: \n",
      "  Convergence detected: relative gradient magnitude is below tolerance\n"
     ]
    }
   ],
   "source": [
    "packs = pd.read_csv('sales.csv')\n",
    "\n",
    "packs['ds'] = pd.to_datetime(packs['ds'])\n",
    "model = Prophet(\n",
    "    seasonality_mode=\"multiplicative\",\n",
    "    yearly_seasonality=True,\n",
    "    weekly_seasonality=True,\n",
    "    daily_seasonality=80,\n",
    "    changepoint_prior_scale = 0.097,\n",
    "    interval_width = 0.97,\n",
    "    holidays = df_holiday\n",
    "    )\n",
    "model.add_country_holidays(country_name='RU')\n",
    "model.fit(packs)\n",
    "future = model.make_future_dataframe(periods = 30, freq = 'd')\n",
    "forecast = model.predict(packs)\n",
    "forecast1 = model.predict(future)\n",
    "forecast_packs = forecast1[['ds', 'yhat', 'yhat_lower', 'yhat_upper']]\n"
   ]
  },
  {
   "cell_type": "code",
   "execution_count": 6,
   "id": "2bf2d3c1",
   "metadata": {},
   "outputs": [
    {
     "data": {
      "text/plain": [
       "16.351764049812694"
      ]
     },
     "execution_count": 6,
     "metadata": {},
     "output_type": "execute_result"
    }
   ],
   "source": [
    "test = forecast_packs.merge(packs, on=[\"ds\"])\n",
    "def mape(actual, pred): \n",
    "    actual, pred = np.array(actual), np.array(pred)\n",
    "    return np.mean(np.abs((actual - pred) / actual)) * 100\n",
    "actual = test['y']\n",
    "pred = test['yhat']\n",
    "mape(actual, pred)"
   ]
  },
  {
   "cell_type": "code",
   "execution_count": 8,
   "id": "8ddcc79b",
   "metadata": {},
   "outputs": [
    {
     "name": "stdout",
     "output_type": "stream",
     "text": [
      "MAE yhat\t: 84.74534649794973\n",
      "MAE yhat\t: 84.74534649794973\n",
      "MAE yhat_lower: 308.8788516688831\n",
      "MAE yhat_upper: 306.8909310997045\n"
     ]
    }
   ],
   "source": [
    "#print performance metrics\n",
    "print(\"MAE yhat\\t: {}\\nMAE yhat\\t: {}\\nMAE yhat_lower: {}\\nMAE yhat_upper: {}\".format(\n",
    "    mean_absolute_error(test['y'].values,test['yhat']),\n",
    "    mean_absolute_error(test['y'].values,test['yhat']),\n",
    "    mean_absolute_error(test['y'].values,test['yhat_lower']),\n",
    "    mean_absolute_error(test['y'].values,test['yhat_upper'])))"
   ]
  }
 ],
 "metadata": {
  "kernelspec": {
   "display_name": "Python 3 (ipykernel)",
   "language": "python",
   "name": "python3"
  },
  "language_info": {
   "codemirror_mode": {
    "name": "ipython",
    "version": 3
   },
   "file_extension": ".py",
   "mimetype": "text/x-python",
   "name": "python",
   "nbconvert_exporter": "python",
   "pygments_lexer": "ipython3",
   "version": "3.7.11"
  }
 },
 "nbformat": 4,
 "nbformat_minor": 5
}
